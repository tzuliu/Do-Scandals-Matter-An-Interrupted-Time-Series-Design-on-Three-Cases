{
 "cells": [
  {
   "cell_type": "markdown",
   "metadata": {},
   "source": [
    "# Important:\n",
    "Make sure running the files of both **German(Overall).R** and **UK(Overall).R** first"
   ]
  },
  {
   "cell_type": "markdown",
   "metadata": {},
   "source": [
    "Create Error Component for **German(CDU)2M1** and **German(FDP)2M1**"
   ]
  },
  {
   "cell_type": "code",
   "execution_count": 1,
   "metadata": {
    "collapsed": false
   },
   "outputs": [],
   "source": [
    "gererror1 <- ger[ger$electionyr==2013,]\n",
    "cdumean1 <- mean(gererror1$poll_p1, na.rm=TRUE)\n",
    "fdpmean1 <- mean(gererror1$poll_p4, na.rm=TRUE)\n",
    "cdumean1 <- cdumean1/100\n",
    "fdpmean1 <- fdpmean1/100\n",
    "cdusd1 <- sqrt((cdumean1*(1-cdumean1))/600)\n",
    "fdpsd1 <- sqrt((fdpmean1*(1-fdpmean1))/600)"
   ]
  },
  {
   "cell_type": "markdown",
   "metadata": {},
   "source": [
    "Create Error Component for **German(CDU)2M2** and **German(FDP)2M2**"
   ]
  },
  {
   "cell_type": "code",
   "execution_count": 2,
   "metadata": {
    "collapsed": false
   },
   "outputs": [],
   "source": [
    "gererror2 <- ger[ger$electionyr==2013,]\n",
    "cdumean2 <- mean(gererror2$poll_p1, na.rm=TRUE)\n",
    "fdpmean2 <- mean(gererror2$poll_p4, na.rm=TRUE)\n",
    "cdumean2 <- cdumean2/100\n",
    "fdpmean2 <- fdpmean2/100\n",
    "cdusd2 <- sqrt((cdumean2*(1-cdumean2))/600)\n",
    "fdpsd2 <- sqrt((fdpmean2*(1-fdpmean2))/600)"
   ]
  },
  {
   "cell_type": "markdown",
   "metadata": {},
   "source": [
    "Create Error Component for **UK(Labour)2M1**"
   ]
  },
  {
   "cell_type": "code",
   "execution_count": 3,
   "metadata": {
    "collapsed": false
   },
   "outputs": [],
   "source": [
    "ukerror1 <- ukl[ukl$electionyr==2010,]\n",
    "lpmean1 <- mean(ukerror1$poll_, na.rm=TRUE)\n",
    "lpmean1 <- lpmean1/100\n",
    "lpsd1 <- sqrt((lpmean1*(1-lpmean1))/600)"
   ]
  }
 ],
 "metadata": {
  "kernelspec": {
   "display_name": "R",
   "language": "R",
   "name": "ir"
  },
  "language_info": {
   "codemirror_mode": "r",
   "file_extension": ".r",
   "mimetype": "text/x-r-source",
   "name": "R",
   "pygments_lexer": "r",
   "version": "3.3.3"
  }
 },
 "nbformat": 4,
 "nbformat_minor": 2
}
